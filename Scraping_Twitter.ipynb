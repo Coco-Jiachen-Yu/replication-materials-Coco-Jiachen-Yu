{
 "cells": [
  {
   "cell_type": "code",
   "execution_count": 5,
   "metadata": {},
   "outputs": [
    {
     "data": {
      "text/plain": [
       "<tweepy.cursor.ItemIterator at 0x7f80a02e2c40>"
      ]
     },
     "execution_count": 5,
     "metadata": {},
     "output_type": "execute_result"
    }
   ],
   "source": [
    "import tweepy as tw\n",
    "\n",
    "my_api_key = \"XuyFzXqzeGVoCYyp1tzgaobHI\"\n",
    "my_api_secret = \"HjOUWpFJmChB5YSKhEcAyCa9K4uJiBU7vN8kiMMgvvMWsGyrM1\"\n",
    "\n",
    "auth = tw.OAuthHandler(my_api_key, my_api_secret)\n",
    "api = tw.API(auth, wait_on_rate_limit=True)\n",
    "\n",
    "query = \"\"\"\n",
    "#alcohol\n",
    "\"\"\"\n",
    "\n",
    "# get tweets from the API\n",
    "tweets = tw.Cursor(api.search_tweets,\n",
    "              q=query,\n",
    "              lang=\"en\",).items()\n",
    "tweets"
   ]
  },
  {
   "cell_type": "code",
   "execution_count": 10,
   "metadata": {},
   "outputs": [
    {
     "ename": "Forbidden",
     "evalue": "403 Forbidden\n453 - You currently have Essential access which includes access to Twitter API v2 endpoints only. If you need access to this endpoint, you’ll need to apply for Elevated access via the Developer Portal. You can learn more here: https://developer.twitter.com/en/docs/twitter-api/getting-started/about-twitter-api#v2-access-leve",
     "output_type": "error",
     "traceback": [
      "\u001b[0;31m---------------------------------------------------------------------------\u001b[0m",
      "\u001b[0;31mForbidden\u001b[0m                                 Traceback (most recent call last)",
      "\u001b[1;32m/Users/yujiachen/Library/CloudStorage/OneDrive-TheUniversityofChicago/class notes_UChicago/MACS 30200/replication-materials-Coco-Jiachen-Yu/Scraping.ipynb Cell 2'\u001b[0m in \u001b[0;36m<cell line: 3>\u001b[0;34m()\u001b[0m\n\u001b[1;32m      <a href='vscode-notebook-cell:/Users/yujiachen/Library/CloudStorage/OneDrive-TheUniversityofChicago/class%20notes_UChicago/MACS%2030200/replication-materials-Coco-Jiachen-Yu/Scraping.ipynb#ch0000001?line=0'>1</a>\u001b[0m \u001b[39m# store the API responses in a list\u001b[39;00m\n\u001b[1;32m      <a href='vscode-notebook-cell:/Users/yujiachen/Library/CloudStorage/OneDrive-TheUniversityofChicago/class%20notes_UChicago/MACS%2030200/replication-materials-Coco-Jiachen-Yu/Scraping.ipynb#ch0000001?line=1'>2</a>\u001b[0m tweets_copy \u001b[39m=\u001b[39m []\n\u001b[0;32m----> <a href='vscode-notebook-cell:/Users/yujiachen/Library/CloudStorage/OneDrive-TheUniversityofChicago/class%20notes_UChicago/MACS%2030200/replication-materials-Coco-Jiachen-Yu/Scraping.ipynb#ch0000001?line=2'>3</a>\u001b[0m \u001b[39mfor\u001b[39;00m tweet \u001b[39min\u001b[39;00m tweets:\n\u001b[1;32m      <a href='vscode-notebook-cell:/Users/yujiachen/Library/CloudStorage/OneDrive-TheUniversityofChicago/class%20notes_UChicago/MACS%2030200/replication-materials-Coco-Jiachen-Yu/Scraping.ipynb#ch0000001?line=3'>4</a>\u001b[0m     tweets_copy\u001b[39m.\u001b[39mappend(tweet)\n\u001b[1;32m      <a href='vscode-notebook-cell:/Users/yujiachen/Library/CloudStorage/OneDrive-TheUniversityofChicago/class%20notes_UChicago/MACS%2030200/replication-materials-Coco-Jiachen-Yu/Scraping.ipynb#ch0000001?line=5'>6</a>\u001b[0m \u001b[39mprint\u001b[39m(\u001b[39m\"\u001b[39m\u001b[39mTotal Tweets fetched:\u001b[39m\u001b[39m\"\u001b[39m, \u001b[39mlen\u001b[39m(tweets_copy))\n",
      "File \u001b[0;32m~/opt/anaconda3/lib/python3.9/site-packages/tweepy/cursor.py:86\u001b[0m, in \u001b[0;36mBaseIterator.__next__\u001b[0;34m(self)\u001b[0m\n\u001b[1;32m     <a href='file:///Users/yujiachen/opt/anaconda3/lib/python3.9/site-packages/tweepy/cursor.py?line=84'>85</a>\u001b[0m \u001b[39mdef\u001b[39;00m \u001b[39m__next__\u001b[39m(\u001b[39mself\u001b[39m):\n\u001b[0;32m---> <a href='file:///Users/yujiachen/opt/anaconda3/lib/python3.9/site-packages/tweepy/cursor.py?line=85'>86</a>\u001b[0m     \u001b[39mreturn\u001b[39;00m \u001b[39mself\u001b[39;49m\u001b[39m.\u001b[39;49mnext()\n",
      "File \u001b[0;32m~/opt/anaconda3/lib/python3.9/site-packages/tweepy/cursor.py:286\u001b[0m, in \u001b[0;36mItemIterator.next\u001b[0;34m(self)\u001b[0m\n\u001b[1;32m    <a href='file:///Users/yujiachen/opt/anaconda3/lib/python3.9/site-packages/tweepy/cursor.py?line=282'>283</a>\u001b[0m     \u001b[39mraise\u001b[39;00m \u001b[39mStopIteration\u001b[39;00m\n\u001b[1;32m    <a href='file:///Users/yujiachen/opt/anaconda3/lib/python3.9/site-packages/tweepy/cursor.py?line=283'>284</a>\u001b[0m \u001b[39mif\u001b[39;00m \u001b[39mself\u001b[39m\u001b[39m.\u001b[39mcurrent_page \u001b[39mis\u001b[39;00m \u001b[39mNone\u001b[39;00m \u001b[39mor\u001b[39;00m \u001b[39mself\u001b[39m\u001b[39m.\u001b[39mpage_index \u001b[39m==\u001b[39m \u001b[39mlen\u001b[39m(\u001b[39mself\u001b[39m\u001b[39m.\u001b[39mcurrent_page) \u001b[39m-\u001b[39m \u001b[39m1\u001b[39m:\n\u001b[1;32m    <a href='file:///Users/yujiachen/opt/anaconda3/lib/python3.9/site-packages/tweepy/cursor.py?line=284'>285</a>\u001b[0m     \u001b[39m# Reached end of current page, get the next page...\u001b[39;00m\n\u001b[0;32m--> <a href='file:///Users/yujiachen/opt/anaconda3/lib/python3.9/site-packages/tweepy/cursor.py?line=285'>286</a>\u001b[0m     \u001b[39mself\u001b[39m\u001b[39m.\u001b[39mcurrent_page \u001b[39m=\u001b[39m \u001b[39mnext\u001b[39;49m(\u001b[39mself\u001b[39;49m\u001b[39m.\u001b[39;49mpage_iterator)\n\u001b[1;32m    <a href='file:///Users/yujiachen/opt/anaconda3/lib/python3.9/site-packages/tweepy/cursor.py?line=286'>287</a>\u001b[0m     \u001b[39mwhile\u001b[39;00m \u001b[39mlen\u001b[39m(\u001b[39mself\u001b[39m\u001b[39m.\u001b[39mcurrent_page) \u001b[39m==\u001b[39m \u001b[39m0\u001b[39m:\n\u001b[1;32m    <a href='file:///Users/yujiachen/opt/anaconda3/lib/python3.9/site-packages/tweepy/cursor.py?line=287'>288</a>\u001b[0m         \u001b[39mself\u001b[39m\u001b[39m.\u001b[39mcurrent_page \u001b[39m=\u001b[39m \u001b[39mnext\u001b[39m(\u001b[39mself\u001b[39m\u001b[39m.\u001b[39mpage_iterator)\n",
      "File \u001b[0;32m~/opt/anaconda3/lib/python3.9/site-packages/tweepy/cursor.py:86\u001b[0m, in \u001b[0;36mBaseIterator.__next__\u001b[0;34m(self)\u001b[0m\n\u001b[1;32m     <a href='file:///Users/yujiachen/opt/anaconda3/lib/python3.9/site-packages/tweepy/cursor.py?line=84'>85</a>\u001b[0m \u001b[39mdef\u001b[39;00m \u001b[39m__next__\u001b[39m(\u001b[39mself\u001b[39m):\n\u001b[0;32m---> <a href='file:///Users/yujiachen/opt/anaconda3/lib/python3.9/site-packages/tweepy/cursor.py?line=85'>86</a>\u001b[0m     \u001b[39mreturn\u001b[39;00m \u001b[39mself\u001b[39;49m\u001b[39m.\u001b[39;49mnext()\n",
      "File \u001b[0;32m~/opt/anaconda3/lib/python3.9/site-packages/tweepy/cursor.py:167\u001b[0m, in \u001b[0;36mIdIterator.next\u001b[0;34m(self)\u001b[0m\n\u001b[1;32m    <a href='file:///Users/yujiachen/opt/anaconda3/lib/python3.9/site-packages/tweepy/cursor.py?line=163'>164</a>\u001b[0m     \u001b[39mraise\u001b[39;00m \u001b[39mStopIteration\u001b[39;00m\n\u001b[1;32m    <a href='file:///Users/yujiachen/opt/anaconda3/lib/python3.9/site-packages/tweepy/cursor.py?line=165'>166</a>\u001b[0m \u001b[39mif\u001b[39;00m \u001b[39mself\u001b[39m\u001b[39m.\u001b[39mindex \u001b[39m>\u001b[39m\u001b[39m=\u001b[39m \u001b[39mlen\u001b[39m(\u001b[39mself\u001b[39m\u001b[39m.\u001b[39mresults) \u001b[39m-\u001b[39m \u001b[39m1\u001b[39m:\n\u001b[0;32m--> <a href='file:///Users/yujiachen/opt/anaconda3/lib/python3.9/site-packages/tweepy/cursor.py?line=166'>167</a>\u001b[0m     data \u001b[39m=\u001b[39m \u001b[39mself\u001b[39;49m\u001b[39m.\u001b[39;49mmethod(max_id\u001b[39m=\u001b[39;49m\u001b[39mself\u001b[39;49m\u001b[39m.\u001b[39;49mmax_id, parser\u001b[39m=\u001b[39;49mRawParser(), \u001b[39m*\u001b[39;49m\u001b[39mself\u001b[39;49m\u001b[39m.\u001b[39;49margs, \u001b[39m*\u001b[39;49m\u001b[39m*\u001b[39;49m\u001b[39mself\u001b[39;49m\u001b[39m.\u001b[39;49mkwargs)\n\u001b[1;32m    <a href='file:///Users/yujiachen/opt/anaconda3/lib/python3.9/site-packages/tweepy/cursor.py?line=168'>169</a>\u001b[0m     model \u001b[39m=\u001b[39m ModelParser()\u001b[39m.\u001b[39mparse(\n\u001b[1;32m    <a href='file:///Users/yujiachen/opt/anaconda3/lib/python3.9/site-packages/tweepy/cursor.py?line=169'>170</a>\u001b[0m         data, api \u001b[39m=\u001b[39m \u001b[39mself\u001b[39m\u001b[39m.\u001b[39mmethod\u001b[39m.\u001b[39m\u001b[39m__self__\u001b[39m,\n\u001b[1;32m    <a href='file:///Users/yujiachen/opt/anaconda3/lib/python3.9/site-packages/tweepy/cursor.py?line=170'>171</a>\u001b[0m         payload_list\u001b[39m=\u001b[39m\u001b[39mself\u001b[39m\u001b[39m.\u001b[39mmethod\u001b[39m.\u001b[39mpayload_list,\n\u001b[1;32m    <a href='file:///Users/yujiachen/opt/anaconda3/lib/python3.9/site-packages/tweepy/cursor.py?line=171'>172</a>\u001b[0m         payload_type\u001b[39m=\u001b[39m\u001b[39mself\u001b[39m\u001b[39m.\u001b[39mmethod\u001b[39m.\u001b[39mpayload_type\n\u001b[1;32m    <a href='file:///Users/yujiachen/opt/anaconda3/lib/python3.9/site-packages/tweepy/cursor.py?line=172'>173</a>\u001b[0m     )\n\u001b[1;32m    <a href='file:///Users/yujiachen/opt/anaconda3/lib/python3.9/site-packages/tweepy/cursor.py?line=173'>174</a>\u001b[0m     result \u001b[39m=\u001b[39m \u001b[39mself\u001b[39m\u001b[39m.\u001b[39mmethod\u001b[39m.\u001b[39m\u001b[39m__self__\u001b[39m\u001b[39m.\u001b[39mparser\u001b[39m.\u001b[39mparse(\n\u001b[1;32m    <a href='file:///Users/yujiachen/opt/anaconda3/lib/python3.9/site-packages/tweepy/cursor.py?line=174'>175</a>\u001b[0m         data, api \u001b[39m=\u001b[39m \u001b[39mself\u001b[39m\u001b[39m.\u001b[39mmethod\u001b[39m.\u001b[39m\u001b[39m__self__\u001b[39m,\n\u001b[1;32m    <a href='file:///Users/yujiachen/opt/anaconda3/lib/python3.9/site-packages/tweepy/cursor.py?line=175'>176</a>\u001b[0m         payload_list\u001b[39m=\u001b[39m\u001b[39mself\u001b[39m\u001b[39m.\u001b[39mmethod\u001b[39m.\u001b[39mpayload_list,\n\u001b[1;32m    <a href='file:///Users/yujiachen/opt/anaconda3/lib/python3.9/site-packages/tweepy/cursor.py?line=176'>177</a>\u001b[0m         payload_type\u001b[39m=\u001b[39m\u001b[39mself\u001b[39m\u001b[39m.\u001b[39mmethod\u001b[39m.\u001b[39mpayload_type\n\u001b[1;32m    <a href='file:///Users/yujiachen/opt/anaconda3/lib/python3.9/site-packages/tweepy/cursor.py?line=177'>178</a>\u001b[0m     )\n",
      "File \u001b[0;32m~/opt/anaconda3/lib/python3.9/site-packages/tweepy/api.py:33\u001b[0m, in \u001b[0;36mpagination.<locals>.decorator.<locals>.wrapper\u001b[0;34m(*args, **kwargs)\u001b[0m\n\u001b[1;32m     <a href='file:///Users/yujiachen/opt/anaconda3/lib/python3.9/site-packages/tweepy/api.py?line=30'>31</a>\u001b[0m \u001b[39m@functools\u001b[39m\u001b[39m.\u001b[39mwraps(method)\n\u001b[1;32m     <a href='file:///Users/yujiachen/opt/anaconda3/lib/python3.9/site-packages/tweepy/api.py?line=31'>32</a>\u001b[0m \u001b[39mdef\u001b[39;00m \u001b[39mwrapper\u001b[39m(\u001b[39m*\u001b[39margs, \u001b[39m*\u001b[39m\u001b[39m*\u001b[39mkwargs):\n\u001b[0;32m---> <a href='file:///Users/yujiachen/opt/anaconda3/lib/python3.9/site-packages/tweepy/api.py?line=32'>33</a>\u001b[0m     \u001b[39mreturn\u001b[39;00m method(\u001b[39m*\u001b[39;49margs, \u001b[39m*\u001b[39;49m\u001b[39m*\u001b[39;49mkwargs)\n",
      "File \u001b[0;32m~/opt/anaconda3/lib/python3.9/site-packages/tweepy/api.py:46\u001b[0m, in \u001b[0;36mpayload.<locals>.decorator.<locals>.wrapper\u001b[0;34m(*args, **kwargs)\u001b[0m\n\u001b[1;32m     <a href='file:///Users/yujiachen/opt/anaconda3/lib/python3.9/site-packages/tweepy/api.py?line=43'>44</a>\u001b[0m kwargs[\u001b[39m'\u001b[39m\u001b[39mpayload_list\u001b[39m\u001b[39m'\u001b[39m] \u001b[39m=\u001b[39m payload_list\n\u001b[1;32m     <a href='file:///Users/yujiachen/opt/anaconda3/lib/python3.9/site-packages/tweepy/api.py?line=44'>45</a>\u001b[0m kwargs[\u001b[39m'\u001b[39m\u001b[39mpayload_type\u001b[39m\u001b[39m'\u001b[39m] \u001b[39m=\u001b[39m payload_type\n\u001b[0;32m---> <a href='file:///Users/yujiachen/opt/anaconda3/lib/python3.9/site-packages/tweepy/api.py?line=45'>46</a>\u001b[0m \u001b[39mreturn\u001b[39;00m method(\u001b[39m*\u001b[39;49margs, \u001b[39m*\u001b[39;49m\u001b[39m*\u001b[39;49mkwargs)\n",
      "File \u001b[0;32m~/opt/anaconda3/lib/python3.9/site-packages/tweepy/api.py:1303\u001b[0m, in \u001b[0;36mAPI.search_tweets\u001b[0;34m(self, q, **kwargs)\u001b[0m\n\u001b[1;32m   <a href='file:///Users/yujiachen/opt/anaconda3/lib/python3.9/site-packages/tweepy/api.py?line=1208'>1209</a>\u001b[0m \u001b[39m@pagination\u001b[39m(mode\u001b[39m=\u001b[39m\u001b[39m'\u001b[39m\u001b[39mid\u001b[39m\u001b[39m'\u001b[39m)\n\u001b[1;32m   <a href='file:///Users/yujiachen/opt/anaconda3/lib/python3.9/site-packages/tweepy/api.py?line=1209'>1210</a>\u001b[0m \u001b[39m@payload\u001b[39m(\u001b[39m'\u001b[39m\u001b[39msearch_results\u001b[39m\u001b[39m'\u001b[39m)\n\u001b[1;32m   <a href='file:///Users/yujiachen/opt/anaconda3/lib/python3.9/site-packages/tweepy/api.py?line=1210'>1211</a>\u001b[0m \u001b[39mdef\u001b[39;00m \u001b[39msearch_tweets\u001b[39m(\u001b[39mself\u001b[39m, q, \u001b[39m*\u001b[39m\u001b[39m*\u001b[39mkwargs):\n\u001b[1;32m   <a href='file:///Users/yujiachen/opt/anaconda3/lib/python3.9/site-packages/tweepy/api.py?line=1211'>1212</a>\u001b[0m     \u001b[39m\"\"\"search_tweets(q, *, geocode, lang, locale, result_type, count, \\\u001b[39;00m\n\u001b[1;32m   <a href='file:///Users/yujiachen/opt/anaconda3/lib/python3.9/site-packages/tweepy/api.py?line=1212'>1213</a>\u001b[0m \u001b[39m                     until, since_id, max_id, include_entities)\u001b[39;00m\n\u001b[1;32m   <a href='file:///Users/yujiachen/opt/anaconda3/lib/python3.9/site-packages/tweepy/api.py?line=1213'>1214</a>\u001b[0m \n\u001b[0;32m   (...)\u001b[0m\n\u001b[1;32m   <a href='file:///Users/yujiachen/opt/anaconda3/lib/python3.9/site-packages/tweepy/api.py?line=1300'>1301</a>\u001b[0m \u001b[39m    .. _Twitter's documentation on the standard search API: https://developer.twitter.com/en/docs/twitter-api/v1/tweets/search/overview\u001b[39;00m\n\u001b[1;32m   <a href='file:///Users/yujiachen/opt/anaconda3/lib/python3.9/site-packages/tweepy/api.py?line=1301'>1302</a>\u001b[0m \u001b[39m    \"\"\"\u001b[39;00m\n\u001b[0;32m-> <a href='file:///Users/yujiachen/opt/anaconda3/lib/python3.9/site-packages/tweepy/api.py?line=1302'>1303</a>\u001b[0m     \u001b[39mreturn\u001b[39;00m \u001b[39mself\u001b[39;49m\u001b[39m.\u001b[39;49mrequest(\n\u001b[1;32m   <a href='file:///Users/yujiachen/opt/anaconda3/lib/python3.9/site-packages/tweepy/api.py?line=1303'>1304</a>\u001b[0m         \u001b[39m'\u001b[39;49m\u001b[39mGET\u001b[39;49m\u001b[39m'\u001b[39;49m, \u001b[39m'\u001b[39;49m\u001b[39msearch/tweets\u001b[39;49m\u001b[39m'\u001b[39;49m, endpoint_parameters\u001b[39m=\u001b[39;49m(\n\u001b[1;32m   <a href='file:///Users/yujiachen/opt/anaconda3/lib/python3.9/site-packages/tweepy/api.py?line=1304'>1305</a>\u001b[0m             \u001b[39m'\u001b[39;49m\u001b[39mq\u001b[39;49m\u001b[39m'\u001b[39;49m, \u001b[39m'\u001b[39;49m\u001b[39mgeocode\u001b[39;49m\u001b[39m'\u001b[39;49m, \u001b[39m'\u001b[39;49m\u001b[39mlang\u001b[39;49m\u001b[39m'\u001b[39;49m, \u001b[39m'\u001b[39;49m\u001b[39mlocale\u001b[39;49m\u001b[39m'\u001b[39;49m, \u001b[39m'\u001b[39;49m\u001b[39mresult_type\u001b[39;49m\u001b[39m'\u001b[39;49m, \u001b[39m'\u001b[39;49m\u001b[39mcount\u001b[39;49m\u001b[39m'\u001b[39;49m,\n\u001b[1;32m   <a href='file:///Users/yujiachen/opt/anaconda3/lib/python3.9/site-packages/tweepy/api.py?line=1305'>1306</a>\u001b[0m             \u001b[39m'\u001b[39;49m\u001b[39muntil\u001b[39;49m\u001b[39m'\u001b[39;49m, \u001b[39m'\u001b[39;49m\u001b[39msince_id\u001b[39;49m\u001b[39m'\u001b[39;49m, \u001b[39m'\u001b[39;49m\u001b[39mmax_id\u001b[39;49m\u001b[39m'\u001b[39;49m, \u001b[39m'\u001b[39;49m\u001b[39minclude_entities\u001b[39;49m\u001b[39m'\u001b[39;49m\n\u001b[1;32m   <a href='file:///Users/yujiachen/opt/anaconda3/lib/python3.9/site-packages/tweepy/api.py?line=1306'>1307</a>\u001b[0m         ), q\u001b[39m=\u001b[39;49mq, \u001b[39m*\u001b[39;49m\u001b[39m*\u001b[39;49mkwargs\n\u001b[1;32m   <a href='file:///Users/yujiachen/opt/anaconda3/lib/python3.9/site-packages/tweepy/api.py?line=1307'>1308</a>\u001b[0m     )\n",
      "File \u001b[0;32m~/opt/anaconda3/lib/python3.9/site-packages/tweepy/api.py:259\u001b[0m, in \u001b[0;36mAPI.request\u001b[0;34m(self, method, endpoint, endpoint_parameters, params, headers, json_payload, parser, payload_list, payload_type, post_data, files, require_auth, return_cursors, upload_api, use_cache, **kwargs)\u001b[0m\n\u001b[1;32m    <a href='file:///Users/yujiachen/opt/anaconda3/lib/python3.9/site-packages/tweepy/api.py?line=256'>257</a>\u001b[0m     \u001b[39mraise\u001b[39;00m Unauthorized(resp)\n\u001b[1;32m    <a href='file:///Users/yujiachen/opt/anaconda3/lib/python3.9/site-packages/tweepy/api.py?line=257'>258</a>\u001b[0m \u001b[39mif\u001b[39;00m resp\u001b[39m.\u001b[39mstatus_code \u001b[39m==\u001b[39m \u001b[39m403\u001b[39m:\n\u001b[0;32m--> <a href='file:///Users/yujiachen/opt/anaconda3/lib/python3.9/site-packages/tweepy/api.py?line=258'>259</a>\u001b[0m     \u001b[39mraise\u001b[39;00m Forbidden(resp)\n\u001b[1;32m    <a href='file:///Users/yujiachen/opt/anaconda3/lib/python3.9/site-packages/tweepy/api.py?line=259'>260</a>\u001b[0m \u001b[39mif\u001b[39;00m resp\u001b[39m.\u001b[39mstatus_code \u001b[39m==\u001b[39m \u001b[39m404\u001b[39m:\n\u001b[1;32m    <a href='file:///Users/yujiachen/opt/anaconda3/lib/python3.9/site-packages/tweepy/api.py?line=260'>261</a>\u001b[0m     \u001b[39mraise\u001b[39;00m NotFound(resp)\n",
      "\u001b[0;31mForbidden\u001b[0m: 403 Forbidden\n453 - You currently have Essential access which includes access to Twitter API v2 endpoints only. If you need access to this endpoint, you’ll need to apply for Elevated access via the Developer Portal. You can learn more here: https://developer.twitter.com/en/docs/twitter-api/getting-started/about-twitter-api#v2-access-leve"
     ]
    }
   ],
   "source": [
    "# store the API responses in a list\n",
    "tweets_copy = []\n",
    "for tweet in tweets:\n",
    "    tweets_copy.append(tweet)\n",
    "    \n",
    "print(\"Total Tweets fetched:\", len(tweets_copy))"
   ]
  },
  {
   "cell_type": "code",
   "execution_count": 4,
   "metadata": {},
   "outputs": [],
   "source": [
    "! snscrape --jsonl --max-results 5000 twitter-hashtag alcohol >twitter-@alcohol.json"
   ]
  }
 ],
 "metadata": {
  "interpreter": {
   "hash": "15cdab398e30ef71ea6bedff180c52df6afb9223e1d11496cd7e9c4786ac7d6b"
  },
  "kernelspec": {
   "display_name": "Python 3.9.7 ('base')",
   "language": "python",
   "name": "python3"
  },
  "language_info": {
   "codemirror_mode": {
    "name": "ipython",
    "version": 3
   },
   "file_extension": ".py",
   "mimetype": "text/x-python",
   "name": "python",
   "nbconvert_exporter": "python",
   "pygments_lexer": "ipython3",
   "version": "3.9.7"
  },
  "orig_nbformat": 4
 },
 "nbformat": 4,
 "nbformat_minor": 2
}
