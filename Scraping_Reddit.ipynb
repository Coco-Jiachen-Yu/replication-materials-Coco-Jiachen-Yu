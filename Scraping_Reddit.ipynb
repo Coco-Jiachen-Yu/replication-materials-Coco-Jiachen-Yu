{
 "cells": [
  {
   "cell_type": "code",
   "execution_count": null,
   "metadata": {},
   "outputs": [],
   "source": [
    "import pandas as pd\n",
    "import praw\n",
    "from praw.models import MoreComments"
   ]
  },
  {
   "cell_type": "code",
   "execution_count": 39,
   "metadata": {},
   "outputs": [],
   "source": [
    "import requests\n",
    "from bs4 import BeautifulSoup\n",
    "\n",
    "start_url = \"https://www.reddit.com/search/?q=alcohol&type=sr\"\n",
    "header = {\"User-Agent\": \"Scraping for final project\"}\n",
    "\n",
    "response = requests.get(start_url, params=header).text\n",
    "soup = BeautifulSoup(response, \"html.parser\")\n",
    "soup_lst = soup.find_all(\"h6\", class_=\"_2torGbn_fNOMbGw3UAasPl\")\n",
    "\n",
    "titles = [title.get_text() for title in soup_lst]\n"
   ]
  },
  {
   "cell_type": "code",
   "execution_count": null,
   "metadata": {},
   "outputs": [],
   "source": [
    "full_titles = []\n",
    "descriptions = []\n",
    "\n",
    "for title in titles:\n",
    "    url = \"reddit.com/{}\".format(title)\n",
    "\n",
    "    response2 = requests.get(url, params=header).text\n",
    "    soup2 = BeautifulSoup(response2, \"html.parser\")\n",
    "    "
   ]
  },
  {
   "cell_type": "code",
   "execution_count": 41,
   "metadata": {},
   "outputs": [],
   "source": [
    "url = \"https://www.reddit.com/r/cripplingalcoholism/\"\n",
    "\n",
    "response2 = requests.get(url, params=header).text\n",
    "soup2 = BeautifulSoup(response2, \"html.parser\")\n",
    "soup2.find(\"p\", class_=\"_1qeIAgB0cPwnLhDF9XSiJM\")\n"
   ]
  },
  {
   "cell_type": "code",
   "execution_count": 55,
   "metadata": {},
   "outputs": [],
   "source": [
    "! snscrape --jsonl --max-results 5000 reddit-subreddit alcohol >reddit-@alcohol"
   ]
  },
  {
   "cell_type": "code",
   "execution_count": 56,
   "metadata": {},
   "outputs": [
    {
     "name": "stdout",
     "output_type": "stream",
     "text": [
      "2022-04-24 17:28:57.490  ERROR  snscrape.base  Error retrieving https://api.pushshift.io/reddit/search/comment/?subreddit=AskReddit&size=1000&sort=desc&before=1650839197: ReadTimeout(ReadTimeoutError(\"HTTPSConnectionPool(host='api.pushshift.io', port=443): Read timed out. (read timeout=10)\"))\n",
      "2022-04-24 17:28:57.491  CRITICAL  snscrape.base  4 requests to https://api.pushshift.io/reddit/search/comment/?subreddit=AskReddit&size=1000&sort=desc&before=1650839197 failed, giving up.\n",
      "2022-04-24 17:28:57.558  CRITICAL  snscrape._cli  Dumped stack and locals to /var/folders/4j/b30m2c8d7wlf01y0qw75gxd40000gn/T/snscrape_locals_sk0onhs9\n",
      "Traceback (most recent call last):\n",
      "  File \"/Users/yujiachen/opt/anaconda3/bin/snscrape\", line 8, in <module>\n",
      "    sys.exit(main())\n",
      "  File \"/Users/yujiachen/opt/anaconda3/lib/python3.9/site-packages/snscrape/_cli.py\", line 308, in main\n",
      "    for i, item in enumerate(scraper.get_items(), start = 1):\n",
      "  File \"/Users/yujiachen/opt/anaconda3/lib/python3.9/site-packages/snscrape/modules/reddit.py\", line 204, in get_items\n",
      "    yield from self._iter_api_submissions_and_comments({type(self)._apiField: self._name})\n",
      "  File \"/Users/yujiachen/opt/anaconda3/lib/python3.9/site-packages/snscrape/modules/reddit.py\", line 197, in _iter_api_submissions_and_comments\n",
      "    tipComment = next(commentsIter)\n",
      "  File \"/Users/yujiachen/opt/anaconda3/lib/python3.9/site-packages/snscrape/modules/reddit.py\", line 107, in _iter_api\n",
      "    r = self._get(url, params = params, headers = {'User-Agent': f'snscrape/{snscrape.version.__version__}'}, responseOkCallback = self._handle_rate_limiting)\n",
      "  File \"/Users/yujiachen/opt/anaconda3/lib/python3.9/site-packages/snscrape/base.py\", line 216, in _get\n",
      "    return self._request('GET', *args, **kwargs)\n",
      "  File \"/Users/yujiachen/opt/anaconda3/lib/python3.9/site-packages/snscrape/base.py\", line 212, in _request\n",
      "    raise ScraperException(msg)\n",
      "snscrape.base.ScraperException: 4 requests to https://api.pushshift.io/reddit/search/comment/?subreddit=AskReddit&size=1000&sort=desc&before=1650839197 failed, giving up.\n",
      "2022-04-24 18:09:00.814  ERROR  snscrape.base  Error retrieving https://api.pushshift.io/reddit/search/comment/?subreddit=politics&size=1000&sort=desc&before=1650839978: ReadTimeout(ReadTimeoutError(\"HTTPSConnectionPool(host='api.pushshift.io', port=443): Read timed out. (read timeout=10)\"))\n",
      "2022-04-24 18:09:00.815  CRITICAL  snscrape.base  4 requests to https://api.pushshift.io/reddit/search/comment/?subreddit=politics&size=1000&sort=desc&before=1650839978 failed, giving up.\n",
      "2022-04-24 18:09:00.886  CRITICAL  snscrape._cli  Dumped stack and locals to /var/folders/4j/b30m2c8d7wlf01y0qw75gxd40000gn/T/snscrape_locals_z9exqya6\n",
      "Traceback (most recent call last):\n",
      "  File \"/Users/yujiachen/opt/anaconda3/bin/snscrape\", line 8, in <module>\n",
      "    sys.exit(main())\n",
      "  File \"/Users/yujiachen/opt/anaconda3/lib/python3.9/site-packages/snscrape/_cli.py\", line 308, in main\n",
      "    for i, item in enumerate(scraper.get_items(), start = 1):\n",
      "  File \"/Users/yujiachen/opt/anaconda3/lib/python3.9/site-packages/snscrape/modules/reddit.py\", line 204, in get_items\n",
      "    yield from self._iter_api_submissions_and_comments({type(self)._apiField: self._name})\n",
      "  File \"/Users/yujiachen/opt/anaconda3/lib/python3.9/site-packages/snscrape/modules/reddit.py\", line 197, in _iter_api_submissions_and_comments\n",
      "    tipComment = next(commentsIter)\n",
      "  File \"/Users/yujiachen/opt/anaconda3/lib/python3.9/site-packages/snscrape/modules/reddit.py\", line 107, in _iter_api\n",
      "    r = self._get(url, params = params, headers = {'User-Agent': f'snscrape/{snscrape.version.__version__}'}, responseOkCallback = self._handle_rate_limiting)\n",
      "  File \"/Users/yujiachen/opt/anaconda3/lib/python3.9/site-packages/snscrape/base.py\", line 216, in _get\n",
      "    return self._request('GET', *args, **kwargs)\n",
      "  File \"/Users/yujiachen/opt/anaconda3/lib/python3.9/site-packages/snscrape/base.py\", line 212, in _request\n",
      "    raise ScraperException(msg)\n",
      "snscrape.base.ScraperException: 4 requests to https://api.pushshift.io/reddit/search/comment/?subreddit=politics&size=1000&sort=desc&before=1650839978 failed, giving up.\n"
     ]
    }
   ],
   "source": [
    "! snscrape --jsonl --max-results 5000 reddit-subreddit stopdrinking >reddit-@stopdrinking\n",
    "! snscrape --jsonl --max-results 5000 reddit-subreddit cripplingalcoholism >reddit-@cripplingalcoholism\n",
    "! snscrape --jsonl --max-results 5000 reddit-subreddit drugscirclejerk >reddit-@drugscirclejerk\n",
    "! snscrape --jsonl --max-results 5000 reddit-subreddit Drugs >reddit-@Drugs\n",
    "! snscrape --jsonl --max-results 5000 reddit-subreddit AmItheAsshole >reddit-@AmItheAsshole\n",
    "! snscrape --jsonl --max-results 5000 reddit-subreddit beer >reddit-@beer\n",
    "! snscrape --jsonl --max-results 5000 reddit-subreddit unpopularopinion >reddit-@unpopularopinion\n",
    "! snscrape --jsonl --max-results 5000 reddit-subreddit drunk >reddit-@drunk\n",
    "! snscrape --jsonl --max-results 5000 reddit-subreddit Alcoholism_Medication >reddit-@Alcoholism_Medication\n",
    "! snscrape --jsonl --max-results 5000 reddit-subreddit dryalcoholics >reddit-@dryalcoholics\n",
    "! snscrape --jsonl --max-results 5000 reddit-subreddit AlcoholGifRecipes >reddit-@AlcoholGifRecipes\n",
    "! snscrape --jsonl --max-results 5000 reddit-subreddit alcoholism >reddit-@alcoholism\n",
    "! snscrape --jsonl --max-results 5000 reddit-subreddit alcoholicsanonymous >reddit-@alcoholicsanonymous\n",
    "! snscrape --jsonl --max-results 5000 reddit-subreddit Sober >reddit-@Sober\n",
    "! snscrape --jsonl --max-results 5000 reddit-subreddit ShittyLifeProTips >reddit-@ShittyLifeProTips\n",
    "! snscrape --jsonl --max-results 5000 reddit-subreddit AlAnon >reddit-@AlAnon\n",
    "! snscrape --jsonl --max-results 5000 reddit-subreddit AskReddit >reddit-@AskReddit\n",
    "! snscrape --jsonl --max-results 5000 reddit-subreddit todayilearned >reddit-@todayilearned\n",
    "! snscrape --jsonl --max-results 5000 reddit-subreddit Showerthoughts >reddit-@Showerthoughts\n",
    "! snscrape --jsonl --max-results 5000 reddit-subreddit trees >reddit-@trees\n",
    "! snscrape --jsonl --max-results 5000 reddit-subreddit exmormon >reddit-@exmormon\n",
    "! snscrape --jsonl --max-results 5000 reddit-subreddit teenagers >reddit-@teenagers\n",
    "! snscrape --jsonl --max-results 5000 reddit-subreddit NoStupidQuestions >reddit-@NoStupidQuestions\n",
    "! snscrape --jsonl --max-results 5000 reddit-subreddit explainlikeimfive >reddit-@explainlikeimfive\n",
    "! snscrape --jsonl --max-results 5000 reddit-subreddit science >reddit-@science\n",
    "! snscrape --jsonl --max-results 5000 reddit-subreddit funny >reddit-@funny\n",
    "! snscrape --jsonl --max-results 5000 reddit-subreddit worldnews >reddit-@worldnews\n",
    "! snscrape --jsonl --max-results 5000 reddit-subreddit Art >reddit-@Art\n",
    "! snscrape --jsonl --max-results 5000 reddit-subreddit keto >reddit-@keto\n",
    "! snscrape --jsonl --max-results 5000 reddit-subreddit news >reddit-@news\n",
    "! snscrape --jsonl --max-results 5000 reddit-subreddit politics >reddit-@politics\n",
    "! snscrape --jsonl --max-results 5000 reddit-subreddit askscience >reddit-@askscience\n",
    "! snscrape --jsonl --max-results 5000 reddit-subreddit memes >reddit-@memes\n",
    "! snscrape --jsonl --max-results 5000 reddit-subreddit pics >reddit-@pics\n",
    "! snscrape --jsonl --max-results 5000 reddit-subreddit SkincareAddiction >reddit-@SkincareAddiction\n",
    "! snscrape --jsonl --max-results 5000 reddit-subreddit ireland >reddit-@ireland\n",
    "! snscrape --jsonl --max-results 5000 reddit-subreddit australia >reddit-@australia\n",
    "! snscrape --jsonl --max-results 5000 reddit-subreddit Marijuana >reddit-@Marijuana\n",
    "! snscrape --jsonl --max-results 5000 reddit-subreddit AskHistorians >reddit-@AskHistorians\n",
    "! snscrape --jsonl --max-results 5000 reddit-subreddit LifeProTips >reddit-@LifeProTips\n",
    "! snscrape --jsonl --max-results 5000 reddit-subreddit mildlyinteresting >reddit-@mildlyinteresting\n",
    "! snscrape --jsonl --max-results 5000 reddit-subreddit india >reddit-@india\n",
    "! snscrape --jsonl --max-results 5000 reddit-subreddit kratom >reddit-@kratom\n",
    "! snscrape --jsonl --max-results 5000 reddit-subreddit Jokes >reddit-@Jokes\n",
    "! snscrape --jsonl --max-results 5000 reddit-subreddit AdviceAnimals >reddit-@AdviceAnimals\n",
    "! snscrape --jsonl --max-results 5000 reddit-subreddit Homebrewing >reddit-@Homebrewing\n",
    "! snscrape --jsonl --max-results 5000 reddit-subreddit conspiracy >reddit-@conspiracy\n",
    "! snscrape --jsonl --max-results 5000 reddit-subreddit Health >reddit-@Health\n",
    "! snscrape --jsonl --max-results 5000 reddit-subreddit loseit >reddit-@loseit\n",
    "! snscrape --jsonl --max-results 5000 reddit-subreddit canada >reddit-@canada\n",
    "! snscrape --jsonl --max-results 5000 reddit-subreddit alcoholic >reddit-@alcoholic\n",
    "! snscrape --jsonl --max-results 5000 reddit-subreddit alcoholabuse >reddit-@alcoholabuse\n",
    "! snscrape --jsonl --max-results 5000 reddit-subreddit alcoholfreebeer >reddit-@alcoholfreebeer\n",
    "! snscrape --jsonl --max-results 5000 reddit-subreddit alcoholismprotips >reddit-@alcoholismprotips\n",
    "! snscrape --jsonl --max-results 5000 reddit-subreddit AlcoholInkArt >reddit-@AlcoholInkArt"
   ]
  }
 ],
 "metadata": {
  "interpreter": {
   "hash": "15cdab398e30ef71ea6bedff180c52df6afb9223e1d11496cd7e9c4786ac7d6b"
  },
  "kernelspec": {
   "display_name": "Python 3.9.7 ('base')",
   "language": "python",
   "name": "python3"
  },
  "language_info": {
   "codemirror_mode": {
    "name": "ipython",
    "version": 3
   },
   "file_extension": ".py",
   "mimetype": "text/x-python",
   "name": "python",
   "nbconvert_exporter": "python",
   "pygments_lexer": "ipython3",
   "version": "3.9.7"
  },
  "orig_nbformat": 4
 },
 "nbformat": 4,
 "nbformat_minor": 2
}
